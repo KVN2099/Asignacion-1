{
 "cells": [
  {
   "cell_type": "code",
   "execution_count": 2,
   "metadata": {},
   "outputs": [],
   "source": [
    "import pandas as pd\n",
    "\n",
    "data = pd.read_csv(\"MFG10YearTerminationData.csv\")"
   ]
  },
  {
   "cell_type": "code",
   "execution_count": 3,
   "metadata": {},
   "outputs": [
    {
     "data": {
      "text/html": [
       "<div>\n",
       "<style scoped>\n",
       "    .dataframe tbody tr th:only-of-type {\n",
       "        vertical-align: middle;\n",
       "    }\n",
       "\n",
       "    .dataframe tbody tr th {\n",
       "        vertical-align: top;\n",
       "    }\n",
       "\n",
       "    .dataframe thead th {\n",
       "        text-align: right;\n",
       "    }\n",
       "</style>\n",
       "<table border=\"1\" class=\"dataframe\">\n",
       "  <thead>\n",
       "    <tr style=\"text-align: right;\">\n",
       "      <th></th>\n",
       "      <th>EmployeeID</th>\n",
       "      <th>recorddate_key</th>\n",
       "      <th>birthdate_key</th>\n",
       "      <th>orighiredate_key</th>\n",
       "      <th>terminationdate_key</th>\n",
       "      <th>age</th>\n",
       "      <th>length_of_service</th>\n",
       "      <th>city_name</th>\n",
       "      <th>department_name</th>\n",
       "      <th>job_title</th>\n",
       "      <th>store_name</th>\n",
       "      <th>gender_short</th>\n",
       "      <th>gender_full</th>\n",
       "      <th>termreason_desc</th>\n",
       "      <th>termtype_desc</th>\n",
       "      <th>STATUS_YEAR</th>\n",
       "      <th>STATUS</th>\n",
       "      <th>BUSINESS_UNIT</th>\n",
       "    </tr>\n",
       "  </thead>\n",
       "  <tbody>\n",
       "    <tr>\n",
       "      <th>0</th>\n",
       "      <td>1318</td>\n",
       "      <td>12/31/2006 0:00</td>\n",
       "      <td>1/3/1954</td>\n",
       "      <td>8/28/1989</td>\n",
       "      <td>1/1/1900</td>\n",
       "      <td>52</td>\n",
       "      <td>17</td>\n",
       "      <td>Vancouver</td>\n",
       "      <td>Executive</td>\n",
       "      <td>CEO</td>\n",
       "      <td>35</td>\n",
       "      <td>M</td>\n",
       "      <td>Male</td>\n",
       "      <td>Not Applicable</td>\n",
       "      <td>Not Applicable</td>\n",
       "      <td>2006</td>\n",
       "      <td>ACTIVE</td>\n",
       "      <td>HEADOFFICE</td>\n",
       "    </tr>\n",
       "    <tr>\n",
       "      <th>1</th>\n",
       "      <td>1318</td>\n",
       "      <td>12/31/2007 0:00</td>\n",
       "      <td>1/3/1954</td>\n",
       "      <td>8/28/1989</td>\n",
       "      <td>1/1/1900</td>\n",
       "      <td>53</td>\n",
       "      <td>18</td>\n",
       "      <td>Vancouver</td>\n",
       "      <td>Executive</td>\n",
       "      <td>CEO</td>\n",
       "      <td>35</td>\n",
       "      <td>M</td>\n",
       "      <td>Male</td>\n",
       "      <td>Not Applicable</td>\n",
       "      <td>Not Applicable</td>\n",
       "      <td>2007</td>\n",
       "      <td>ACTIVE</td>\n",
       "      <td>HEADOFFICE</td>\n",
       "    </tr>\n",
       "    <tr>\n",
       "      <th>2</th>\n",
       "      <td>1318</td>\n",
       "      <td>12/31/2008 0:00</td>\n",
       "      <td>1/3/1954</td>\n",
       "      <td>8/28/1989</td>\n",
       "      <td>1/1/1900</td>\n",
       "      <td>54</td>\n",
       "      <td>19</td>\n",
       "      <td>Vancouver</td>\n",
       "      <td>Executive</td>\n",
       "      <td>CEO</td>\n",
       "      <td>35</td>\n",
       "      <td>M</td>\n",
       "      <td>Male</td>\n",
       "      <td>Not Applicable</td>\n",
       "      <td>Not Applicable</td>\n",
       "      <td>2008</td>\n",
       "      <td>ACTIVE</td>\n",
       "      <td>HEADOFFICE</td>\n",
       "    </tr>\n",
       "    <tr>\n",
       "      <th>3</th>\n",
       "      <td>1318</td>\n",
       "      <td>12/31/2009 0:00</td>\n",
       "      <td>1/3/1954</td>\n",
       "      <td>8/28/1989</td>\n",
       "      <td>1/1/1900</td>\n",
       "      <td>55</td>\n",
       "      <td>20</td>\n",
       "      <td>Vancouver</td>\n",
       "      <td>Executive</td>\n",
       "      <td>CEO</td>\n",
       "      <td>35</td>\n",
       "      <td>M</td>\n",
       "      <td>Male</td>\n",
       "      <td>Not Applicable</td>\n",
       "      <td>Not Applicable</td>\n",
       "      <td>2009</td>\n",
       "      <td>ACTIVE</td>\n",
       "      <td>HEADOFFICE</td>\n",
       "    </tr>\n",
       "    <tr>\n",
       "      <th>4</th>\n",
       "      <td>1318</td>\n",
       "      <td>12/31/2010 0:00</td>\n",
       "      <td>1/3/1954</td>\n",
       "      <td>8/28/1989</td>\n",
       "      <td>1/1/1900</td>\n",
       "      <td>56</td>\n",
       "      <td>21</td>\n",
       "      <td>Vancouver</td>\n",
       "      <td>Executive</td>\n",
       "      <td>CEO</td>\n",
       "      <td>35</td>\n",
       "      <td>M</td>\n",
       "      <td>Male</td>\n",
       "      <td>Not Applicable</td>\n",
       "      <td>Not Applicable</td>\n",
       "      <td>2010</td>\n",
       "      <td>ACTIVE</td>\n",
       "      <td>HEADOFFICE</td>\n",
       "    </tr>\n",
       "    <tr>\n",
       "      <th>...</th>\n",
       "      <td>...</td>\n",
       "      <td>...</td>\n",
       "      <td>...</td>\n",
       "      <td>...</td>\n",
       "      <td>...</td>\n",
       "      <td>...</td>\n",
       "      <td>...</td>\n",
       "      <td>...</td>\n",
       "      <td>...</td>\n",
       "      <td>...</td>\n",
       "      <td>...</td>\n",
       "      <td>...</td>\n",
       "      <td>...</td>\n",
       "      <td>...</td>\n",
       "      <td>...</td>\n",
       "      <td>...</td>\n",
       "      <td>...</td>\n",
       "      <td>...</td>\n",
       "    </tr>\n",
       "    <tr>\n",
       "      <th>49648</th>\n",
       "      <td>8258</td>\n",
       "      <td>12/1/2015 0:00</td>\n",
       "      <td>5/28/1994</td>\n",
       "      <td>8/19/2013</td>\n",
       "      <td>12/30/2015</td>\n",
       "      <td>21</td>\n",
       "      <td>2</td>\n",
       "      <td>Valemount</td>\n",
       "      <td>Dairy</td>\n",
       "      <td>Dairy Person</td>\n",
       "      <td>34</td>\n",
       "      <td>M</td>\n",
       "      <td>Male</td>\n",
       "      <td>Layoff</td>\n",
       "      <td>Involuntary</td>\n",
       "      <td>2015</td>\n",
       "      <td>TERMINATED</td>\n",
       "      <td>STORES</td>\n",
       "    </tr>\n",
       "    <tr>\n",
       "      <th>49649</th>\n",
       "      <td>8264</td>\n",
       "      <td>8/1/2013 0:00</td>\n",
       "      <td>6/13/1994</td>\n",
       "      <td>8/27/2013</td>\n",
       "      <td>8/30/2013</td>\n",
       "      <td>19</td>\n",
       "      <td>0</td>\n",
       "      <td>Vancouver</td>\n",
       "      <td>Customer Service</td>\n",
       "      <td>Cashier</td>\n",
       "      <td>44</td>\n",
       "      <td>F</td>\n",
       "      <td>Female</td>\n",
       "      <td>Resignaton</td>\n",
       "      <td>Voluntary</td>\n",
       "      <td>2013</td>\n",
       "      <td>TERMINATED</td>\n",
       "      <td>STORES</td>\n",
       "    </tr>\n",
       "    <tr>\n",
       "      <th>49650</th>\n",
       "      <td>8279</td>\n",
       "      <td>12/1/2015 0:00</td>\n",
       "      <td>7/18/1994</td>\n",
       "      <td>9/15/2013</td>\n",
       "      <td>12/30/2015</td>\n",
       "      <td>21</td>\n",
       "      <td>2</td>\n",
       "      <td>White Rock</td>\n",
       "      <td>Customer Service</td>\n",
       "      <td>Cashier</td>\n",
       "      <td>39</td>\n",
       "      <td>F</td>\n",
       "      <td>Female</td>\n",
       "      <td>Layoff</td>\n",
       "      <td>Involuntary</td>\n",
       "      <td>2015</td>\n",
       "      <td>TERMINATED</td>\n",
       "      <td>STORES</td>\n",
       "    </tr>\n",
       "    <tr>\n",
       "      <th>49651</th>\n",
       "      <td>8296</td>\n",
       "      <td>12/1/2013 0:00</td>\n",
       "      <td>9/2/1994</td>\n",
       "      <td>10/9/2013</td>\n",
       "      <td>12/31/2013</td>\n",
       "      <td>19</td>\n",
       "      <td>0</td>\n",
       "      <td>Kelowna</td>\n",
       "      <td>Customer Service</td>\n",
       "      <td>Cashier</td>\n",
       "      <td>16</td>\n",
       "      <td>F</td>\n",
       "      <td>Female</td>\n",
       "      <td>Resignaton</td>\n",
       "      <td>Voluntary</td>\n",
       "      <td>2013</td>\n",
       "      <td>TERMINATED</td>\n",
       "      <td>STORES</td>\n",
       "    </tr>\n",
       "    <tr>\n",
       "      <th>49652</th>\n",
       "      <td>8321</td>\n",
       "      <td>12/1/2014 0:00</td>\n",
       "      <td>11/28/1994</td>\n",
       "      <td>11/24/2013</td>\n",
       "      <td>12/30/2014</td>\n",
       "      <td>20</td>\n",
       "      <td>1</td>\n",
       "      <td>Grand Forks</td>\n",
       "      <td>Customer Service</td>\n",
       "      <td>Cashier</td>\n",
       "      <td>13</td>\n",
       "      <td>F</td>\n",
       "      <td>Female</td>\n",
       "      <td>Layoff</td>\n",
       "      <td>Involuntary</td>\n",
       "      <td>2014</td>\n",
       "      <td>TERMINATED</td>\n",
       "      <td>STORES</td>\n",
       "    </tr>\n",
       "  </tbody>\n",
       "</table>\n",
       "<p>49653 rows × 18 columns</p>\n",
       "</div>"
      ],
      "text/plain": [
       "       EmployeeID   recorddate_key birthdate_key orighiredate_key  \\\n",
       "0            1318  12/31/2006 0:00      1/3/1954        8/28/1989   \n",
       "1            1318  12/31/2007 0:00      1/3/1954        8/28/1989   \n",
       "2            1318  12/31/2008 0:00      1/3/1954        8/28/1989   \n",
       "3            1318  12/31/2009 0:00      1/3/1954        8/28/1989   \n",
       "4            1318  12/31/2010 0:00      1/3/1954        8/28/1989   \n",
       "...           ...              ...           ...              ...   \n",
       "49648        8258   12/1/2015 0:00     5/28/1994        8/19/2013   \n",
       "49649        8264    8/1/2013 0:00     6/13/1994        8/27/2013   \n",
       "49650        8279   12/1/2015 0:00     7/18/1994        9/15/2013   \n",
       "49651        8296   12/1/2013 0:00      9/2/1994        10/9/2013   \n",
       "49652        8321   12/1/2014 0:00    11/28/1994       11/24/2013   \n",
       "\n",
       "      terminationdate_key  age  length_of_service    city_name  \\\n",
       "0                1/1/1900   52                 17    Vancouver   \n",
       "1                1/1/1900   53                 18    Vancouver   \n",
       "2                1/1/1900   54                 19    Vancouver   \n",
       "3                1/1/1900   55                 20    Vancouver   \n",
       "4                1/1/1900   56                 21    Vancouver   \n",
       "...                   ...  ...                ...          ...   \n",
       "49648          12/30/2015   21                  2    Valemount   \n",
       "49649           8/30/2013   19                  0    Vancouver   \n",
       "49650          12/30/2015   21                  2   White Rock   \n",
       "49651          12/31/2013   19                  0      Kelowna   \n",
       "49652          12/30/2014   20                  1  Grand Forks   \n",
       "\n",
       "        department_name     job_title  store_name gender_short gender_full  \\\n",
       "0             Executive           CEO          35            M        Male   \n",
       "1             Executive           CEO          35            M        Male   \n",
       "2             Executive           CEO          35            M        Male   \n",
       "3             Executive           CEO          35            M        Male   \n",
       "4             Executive           CEO          35            M        Male   \n",
       "...                 ...           ...         ...          ...         ...   \n",
       "49648             Dairy  Dairy Person          34            M        Male   \n",
       "49649  Customer Service       Cashier          44            F      Female   \n",
       "49650  Customer Service       Cashier          39            F      Female   \n",
       "49651  Customer Service       Cashier          16            F      Female   \n",
       "49652  Customer Service       Cashier          13            F      Female   \n",
       "\n",
       "      termreason_desc   termtype_desc  STATUS_YEAR      STATUS BUSINESS_UNIT  \n",
       "0      Not Applicable  Not Applicable         2006      ACTIVE    HEADOFFICE  \n",
       "1      Not Applicable  Not Applicable         2007      ACTIVE    HEADOFFICE  \n",
       "2      Not Applicable  Not Applicable         2008      ACTIVE    HEADOFFICE  \n",
       "3      Not Applicable  Not Applicable         2009      ACTIVE    HEADOFFICE  \n",
       "4      Not Applicable  Not Applicable         2010      ACTIVE    HEADOFFICE  \n",
       "...               ...             ...          ...         ...           ...  \n",
       "49648          Layoff     Involuntary         2015  TERMINATED        STORES  \n",
       "49649      Resignaton       Voluntary         2013  TERMINATED        STORES  \n",
       "49650          Layoff     Involuntary         2015  TERMINATED        STORES  \n",
       "49651      Resignaton       Voluntary         2013  TERMINATED        STORES  \n",
       "49652          Layoff     Involuntary         2014  TERMINATED        STORES  \n",
       "\n",
       "[49653 rows x 18 columns]"
      ]
     },
     "execution_count": 3,
     "metadata": {},
     "output_type": "execute_result"
    }
   ],
   "source": [
    "data"
   ]
  },
  {
   "cell_type": "markdown",
   "metadata": {},
   "source": [
    "# ¿Cuánto es el tiempo promedio que duran las personas que se retiran de la empresa tanto voluntaria como involuntariamente?"
   ]
  },
  {
   "cell_type": "code",
   "execution_count": 4,
   "metadata": {},
   "outputs": [
    {
     "name": "stdout",
     "output_type": "stream",
     "text": [
      "El tiempo promedio que duran las personas son 11 años.\n"
     ]
    }
   ],
   "source": [
    "promedio = round(data[data[\"STATUS\"]==\"TERMINATED\"][\"length_of_service\"].mean())\n",
    "print(f\"El tiempo promedio que duran las personas son {promedio} años.\")"
   ]
  },
  {
   "cell_type": "markdown",
   "metadata": {},
   "source": [
    "# ¿Cuál es el departamento que tiene una rotación de personal mayor y cuál es el departamento que tiene una rotación de personal menor, que hace la diferencia?"
   ]
  },
  {
   "cell_type": "code",
   "execution_count": 5,
   "metadata": {},
   "outputs": [
    {
     "name": "stdout",
     "output_type": "stream",
     "text": [
      "Training 19\n",
      "Store Management 19\n",
      "Labor Relations 18\n",
      "HR Technology 19\n",
      "Employee Records 19\n",
      "Meats 15\n",
      "Compensation 18\n",
      "Legal 19\n",
      "Produce 12\n",
      "Accounts Receiveable 19\n",
      "Bakery 10\n",
      "Information Technology 18\n",
      "Accounts Payable 20\n",
      "Audit 19\n",
      "Accounting 20\n",
      "Investment 19\n",
      "Dairy 7\n",
      "Recruitment 20\n",
      "Processed Foods 6\n",
      "Customer Service 6\n"
     ]
    }
   ],
   "source": [
    "deps = data[data[\"STATUS\"]==\"TERMINATED\"][\"department_name\"].unique()\n",
    "for dep in deps:\n",
    "    print(dep, data[data[\"department_name\"]==dep][\"length_of_service\"].sum() // len(data[data[\"department_name\"]==dep]))"
   ]
  },
  {
   "cell_type": "markdown",
   "metadata": {},
   "source": [
    "Los departamentos con más rotación son Processed Foods y Customer service con 6 años.\n",
    "Los departamentos con menos rotación son Accounts Payable y Accounting con 20 años."
   ]
  },
  {
   "cell_type": "markdown",
   "metadata": {},
   "source": [
    "# ¿Cuál es la edad promedio de las personas que duran más en la empresa?"
   ]
  },
  {
   "cell_type": "code",
   "execution_count": 15,
   "metadata": {},
   "outputs": [
    {
     "name": "stdout",
     "output_type": "stream",
     "text": [
      "La edad promedio de las personas que duran más en la empresa es 60 años.\n"
     ]
    }
   ],
   "source": [
    "edad = round(data[(data[\"department_name\"]==\"Accounting\") | (data[\"department_name\"]==\"Accounts Payable\")][\"age\"].mean())\n",
    "print(f\"La edad promedio de las personas que duran más en la empresa es {edad} años.\")"
   ]
  },
  {
   "cell_type": "markdown",
   "metadata": {},
   "source": [
    "# Explique si el género de las personas tiene un impacto en la rotación de personal."
   ]
  },
  {
   "cell_type": "code",
   "execution_count": 28,
   "metadata": {},
   "outputs": [
    {
     "name": "stdout",
     "output_type": "stream",
     "text": [
      "Promedio de duración de hombres: 10 años.\n",
      "Promedio de duración de mujeres: 12 años.\n",
      "Desviación estándar de duración de hombres: 7 años.\n",
      "Desviación estándar de duración de mujeres: 7 años.\n",
      "Las mujeres tienden a trabajar en promedio 2 años más que los hombres antes de retirarse, pero la diferencia no es mucha para ser una fuerte consideración.\n"
     ]
    }
   ],
   "source": [
    "male_mean = round(data[(data[\"gender_short\"]==\"M\") & (data[\"STATUS\"]==\"TERMINATED\")][\"length_of_service\"].mean())\n",
    "female_mean = round(data[(data[\"gender_short\"]==\"F\") & (data[\"STATUS\"]==\"TERMINATED\")][\"length_of_service\"].mean())\n",
    "\n",
    "male_std = round(data[(data[\"gender_short\"]==\"M\") & (data[\"STATUS\"]==\"TERMINATED\")][\"length_of_service\"].std())\n",
    "female_std = round(data[(data[\"gender_short\"]==\"F\") & (data[\"STATUS\"]==\"TERMINATED\")][\"length_of_service\"].std())\n",
    "\n",
    "print(f\"Promedio de duración de hombres: {male_mean} años.\")\n",
    "print(f\"Promedio de duración de mujeres: {female_mean} años.\")\n",
    "\n",
    "print(f\"Desviación estándar de duración de hombres: {male_std} años.\")\n",
    "print(f\"Desviación estándar de duración de mujeres: {female_std} años.\")\n",
    "\n",
    "print(\"Las mujeres tienden a trabajar en promedio 2 años más que los hombres antes de retirarse, pero la diferencia no es mucha para ser una fuerte consideración.\")"
   ]
  },
  {
   "cell_type": "markdown",
   "metadata": {},
   "source": [
    "# Identifique cuales son los 2 nombres de trabajo (```job_title```) que menos rotación tiene y cuales son los 2 con mayor rotación."
   ]
  },
  {
   "cell_type": "code",
   "execution_count": 37,
   "metadata": {},
   "outputs": [],
   "source": [
    "trabajos = data[data[\"STATUS\"] == \"TERMINATED\"].groupby([\"job_title\"])\n",
    "keys = trabajos.groups.keys()"
   ]
  },
  {
   "cell_type": "code",
   "execution_count": 44,
   "metadata": {},
   "outputs": [
    {
     "name": "stdout",
     "output_type": "stream",
     "text": [
      "Accounting Clerk 25\n",
      "Accounts Payable Clerk 22\n",
      "Accounts Receiveable Clerk 22\n",
      "Auditor 21\n",
      "Baker 10\n",
      "Bakery Manager 22\n",
      "Benefits Admin 22\n",
      "Cashier 3\n",
      "Compensation Analyst 21\n",
      "Corporate Lawyer 21\n",
      "Customer Service Manager 23\n",
      "Dairy Manager 24\n",
      "Dairy Person 11\n",
      "Director, Accounting 24\n",
      "Director, Accounts Payable 24\n",
      "Director, Accounts Receivable 24\n",
      "Director, Audit 19\n",
      "Director, Compensation 19\n",
      "Director, Employee Records 24\n",
      "Director, HR Technology 24\n",
      "Director, Investments 19\n",
      "Director, Labor Relations 19\n",
      "Director, Training 19\n",
      "HRIS Analyst 22\n",
      "Investment Analyst 22\n",
      "Labor Relations Analyst 21\n",
      "Meat Cutter 14\n",
      "Meats Manager 22\n",
      "Processed Foods Manager 22\n",
      "Produce Clerk 11\n",
      "Produce Manager 22\n",
      "Recruiter 23\n",
      "Shelf Stocker 6\n",
      "Store Manager 22\n",
      "Systems Analyst 19\n",
      "Trainer 22\n"
     ]
    }
   ],
   "source": [
    "for key in keys:\n",
    "    length = round(trabajos.get_group(key)[\"length_of_service\"].mean())\n",
    "    print(key, length)"
   ]
  },
  {
   "cell_type": "markdown",
   "metadata": {},
   "source": [
    "Los dos trabajos con mayor rotación son Cashier (3) y Shelf Stocker (6).\n",
    "Los trabajos con menor rotación son Account Clerk (25) y:\n",
    "- Dairy Manager (24)\n",
    "- Director, Accounting (24)\n",
    "- Director, Accounts Payable (24)\n",
    "- Director, Accounts Receivable (24)\n",
    "- Director, Employee Records (24)\n",
    "- Director, HR Technology (24)"
   ]
  },
  {
   "cell_type": "markdown",
   "metadata": {},
   "source": [
    "# ¿Qué proporción tienen personas retiradas?"
   ]
  },
  {
   "cell_type": "code",
   "execution_count": 49,
   "metadata": {},
   "outputs": [
    {
     "name": "stdout",
     "output_type": "stream",
     "text": [
      "Hay una proporción de 3.08% de personas retiradas a activas (3 de cada 100)\n"
     ]
    }
   ],
   "source": [
    "proporcion = round(len(data[data[\"STATUS\"] == \"TERMINATED\"]) / len(data[data[\"STATUS\"] == \"ACTIVE\"]) * 100, 2)\n",
    "print(f\"Hay una proporción de {proporcion}% de personas retiradas a activas (3 de cada 100)\")"
   ]
  },
  {
   "cell_type": "markdown",
   "metadata": {},
   "source": [
    "# De las personas retiradas, ¿cuál es el promedio de edad y de tiempo que duraron en la compañía?"
   ]
  },
  {
   "cell_type": "code",
   "execution_count": 51,
   "metadata": {},
   "outputs": [
    {
     "name": "stdout",
     "output_type": "stream",
     "text": [
      "Edad promedio: 51 años\n",
      "Tiempo promedio: 11 años\n"
     ]
    }
   ],
   "source": [
    "edad = round(data[data[\"STATUS\"] == \"TERMINATED\"][\"age\"].mean())\n",
    "tiempo = round(data[data[\"STATUS\"] == \"TERMINATED\"][\"length_of_service\"].mean())\n",
    "\n",
    "print(f\"Edad promedio: {edad} años\")\n",
    "print(f\"Tiempo promedio: {tiempo} años\")"
   ]
  },
  {
   "cell_type": "code",
   "execution_count": 55,
   "metadata": {},
   "outputs": [
    {
     "name": "stdout",
     "output_type": "stream",
     "text": [
      "Personas prontas a retirarse: 25560\n"
     ]
    }
   ],
   "source": [
    "prontas = len(data[(data[\"age\"] > (edad - tiempo)) & (data[\"STATUS\"] == \"ACTIVE\")])\n",
    "print(f\"Personas prontas a retirarse: {prontas}\")"
   ]
  },
  {
   "cell_type": "markdown",
   "metadata": {},
   "source": [
    "# Determine cuál es la ciudad que se ha visto más afectada por la rotación de personal."
   ]
  },
  {
   "cell_type": "code",
   "execution_count": 56,
   "metadata": {},
   "outputs": [],
   "source": [
    "ciudades = data[data[\"STATUS\"] == \"TERMINATED\"].groupby([\"city_name\"])\n",
    "keys = ciudades.groups.keys()"
   ]
  },
  {
   "cell_type": "code",
   "execution_count": 57,
   "metadata": {},
   "outputs": [
    {
     "name": "stdout",
     "output_type": "stream",
     "text": [
      "Abbotsford 10\n",
      "Aldergrove 14\n",
      "Bella Bella 8\n",
      "Blue River 13\n",
      "Burnaby 11\n",
      "Chilliwack 8\n",
      "Cortes Island 13\n",
      "Cranbrook 13\n",
      "Dawson Creek 13\n",
      "Dease Lake 17\n",
      "Fort Nelson 10\n",
      "Fort St John 12\n",
      "Grand Forks 10\n",
      "Haney 11\n",
      "Kamloops 11\n",
      "Kelowna 11\n",
      "Langley 9\n",
      "Nanaimo 11\n",
      "Nelson 10\n",
      "New Westminister 9\n",
      "New Westminster 11\n",
      "North Vancouver 11\n",
      "Ocean Falls 19\n",
      "Pitt Meadows 11\n",
      "Port Coquitlam 9\n",
      "Prince George 9\n",
      "Princeton 10\n",
      "Quesnel 10\n",
      "Richmond 10\n",
      "Squamish 11\n",
      "Surrey 10\n",
      "Terrace 12\n",
      "Trail 12\n",
      "Valemount 9\n",
      "Vancouver 13\n",
      "Vernon 14\n",
      "Victoria 12\n",
      "West Vancouver 10\n",
      "White Rock 13\n",
      "Williams Lake 8\n"
     ]
    }
   ],
   "source": [
    "for key in keys:\n",
    "    length = round(ciudades.get_group(key)[\"length_of_service\"].mean())\n",
    "    print(key, length)"
   ]
  },
  {
   "cell_type": "markdown",
   "metadata": {},
   "source": [
    "Las ciudades más afectadas por la rotación son:\n",
    "- Chilliwack (8)\n",
    "- Williams Lake (8)\n",
    "- Bella Bella (8)"
   ]
  }
 ],
 "metadata": {
  "interpreter": {
   "hash": "aee8b7b246df8f9039afb4144a1f6fd8d2ca17a180786b69acc140d282b71a49"
  },
  "kernelspec": {
   "display_name": "Python 3.10.2 64-bit",
   "language": "python",
   "name": "python3"
  },
  "language_info": {
   "codemirror_mode": {
    "name": "ipython",
    "version": 3
   },
   "file_extension": ".py",
   "mimetype": "text/x-python",
   "name": "python",
   "nbconvert_exporter": "python",
   "pygments_lexer": "ipython3",
   "version": "3.10.2"
  },
  "orig_nbformat": 4
 },
 "nbformat": 4,
 "nbformat_minor": 2
}
